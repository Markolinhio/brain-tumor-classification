{
 "cells": [
  {
   "cell_type": "code",
   "execution_count": 1,
   "id": "2e429e11-78c4-4749-a374-3b690f0838b0",
   "metadata": {},
   "outputs": [
    {
     "name": "stderr",
     "output_type": "stream",
     "text": [
      "/home/khoa-ys/Projects/venv_for_projects/bio_ml_venv/lib/python3.8/site-packages/tqdm/auto.py:21: TqdmWarning: IProgress not found. Please update jupyter and ipywidgets. See https://ipywidgets.readthedocs.io/en/stable/user_install.html\n",
      "  from .autonotebook import tqdm as notebook_tqdm\n"
     ]
    },
    {
     "name": "stdout",
     "output_type": "stream",
     "text": [
      "Using cuda device\n"
     ]
    }
   ],
   "source": [
    "import os\n",
    "import sys\n",
    "sys.path.append(os.path.join(os.path.dirname(os.getcwd()), 'src'))\n",
    "\n",
    "from pathlib import Path\n",
    "from tqdm import tqdm\n",
    "import cv2\n",
    "import numpy as np\n",
    "import matplotlib.pyplot as plt\n",
    "import json\n",
    "from utils import *\n",
    "import time\n",
    "\n",
    "import pandas as pd\n",
    "from sklearn.decomposition import PCA\n",
    "from sklearn.manifold import TSNE\n",
    "from sklearn.svm import SVC\n",
    "from sklearn.ensemble import RandomForestClassifier\n",
    "from sklearn.model_selection import train_test_split\n",
    "from sklearn import metrics\n",
    "\n",
    "import torch\n",
    "import torchvision\n",
    "from torchvision import transforms\n",
    "import torch.nn as nn\n",
    "import torch.nn.functional as F\n",
    "from torch.utils.data import Dataset, DataLoader\n",
    "from torchvision.io import read_image\n",
    "\n",
    "device = \"cuda\" if torch.cuda.is_available() else \"cpu\"\n",
    "print(f\"Using {device} device\")"
   ]
  },
  {
   "cell_type": "code",
   "execution_count": 2,
   "id": "85a12af1-adad-4b61-9bd4-43944e362ea4",
   "metadata": {},
   "outputs": [
    {
     "name": "stdout",
     "output_type": "stream",
     "text": [
      "Astrocitoma, Carcinoma, Ependimoma, Ganglioglioma, Germinoma, Glioblastoma, Granuloma, Meduloblastoma, Meningioma, Neurocitoma, Oligodendroglioma, Papiloma, Schwannoma, Tuberculoma, _NORMAL\n"
     ]
    }
   ],
   "source": [
    "root_path = os.path.dirname(os.getcwd())\n",
    "data_path = os.path.join(root_path, \"dwt_combined_dataset\")\n",
    "image_dict = json.load(open(os.path.join(data_path, 'image_dict.json'), 'r'))\n",
    "print(*image_dict.keys(), sep=', ')"
   ]
  },
  {
   "cell_type": "markdown",
   "id": "187fa72f-1776-4663-841c-d4efc396fde4",
   "metadata": {
    "tags": []
   },
   "source": [
    "### Load feature map"
   ]
  },
  {
   "cell_type": "markdown",
   "id": "0308f465-9641-416a-87ef-83b537cf056b",
   "metadata": {},
   "source": [
    "#### Embed the feature map"
   ]
  },
  {
   "cell_type": "code",
   "execution_count": 3,
   "id": "495ee852-1a06-40e3-b763-80f6c012a60e",
   "metadata": {
    "tags": []
   },
   "outputs": [
    {
     "name": "stdout",
     "output_type": "stream",
     "text": [
      "(4478, 64)\n"
     ]
    },
    {
     "data": {
      "text/plain": [
       "(array([[-0.1932285 ,  0.43204862, -0.35730872, ...,  0.29469192,\n",
       "          0.1649177 , -0.37778986],\n",
       "        [-0.12363593, -0.09538125, -1.0944743 , ...,  1.1734923 ,\n",
       "          0.06099137, -0.773806  ],\n",
       "        [ 0.49205416, -0.37170497,  0.745595  , ..., -0.29842043,\n",
       "         -1.274907  ,  0.12614979],\n",
       "        ...,\n",
       "        [-0.19574082, -0.10772687,  0.18486801, ...,  0.5652172 ,\n",
       "          0.04326718,  0.574701  ],\n",
       "        [-0.06718548,  0.3974936 , -1.2135364 , ...,  1.2631209 ,\n",
       "          0.57759714, -0.70968354],\n",
       "        [ 0.6078855 ,  0.25251848, -0.14807133, ...,  0.30003974,\n",
       "          0.4284362 , -0.32612237]]),\n",
       " array(['Astrocitoma', 'Astrocitoma', 'Astrocitoma', ..., '_NORMAL',\n",
       "        '_NORMAL', '_NORMAL'], dtype=object))"
      ]
     },
     "execution_count": 3,
     "metadata": {},
     "output_type": "execute_result"
    }
   ],
   "source": [
    "# Embed the data by PCA and TSNE if haven't\n",
    "embed = False\n",
    "if embed:\n",
    "    data = pd.read_csv(os.path.join(data_path, 'image_value_dict.csv'))\n",
    "    X, labels = data.iloc[:, :-1].to_numpy(), data.iloc[:, -1].to_numpy()\n",
    "    X, labels\n",
    "    \n",
    "    # By PCA\n",
    "    pca = PCA(n_components=64)\n",
    "    y = pd.factorize(labels)[0]\n",
    "    pca_X = pca.fit_transform(X)\n",
    "\n",
    "    data = pd.DataFrame(pca_X)\n",
    "    data['label'] = labels\n",
    "    data.to_csv(os.path.join(data_path, \"pca_image_value_dict.csv\"), index=False)\n",
    "\n",
    "    plt.figure()\n",
    "    plt.title('Embedding of feature map on first and second principle components')\n",
    "    plt.scatter(pca_X[:, 0], pca_X[:, 1], c=y)\n",
    "\n",
    "    # By TSNE\n",
    "    tsne = TSNE(n_components=64, method='exact', learning_rate='auto', init='random', perplexity=3)\n",
    "    tsne_X = tsne.fit_transform(X)\n",
    "\n",
    "    data = pd.DataFrame(tsne_X)\n",
    "    data['label'] = labels\n",
    "    data.to_csv(os.path.join(data_path, \"tsne_image_value_dict.csv\"), index=False)\n",
    "    \n",
    "# Else load the saved data by guven method:\n",
    "embed_method = 'tsne' # or 'pca'\n",
    "data = pd.read_csv(os.path.join(data_path, embed_method+'_image_value_dict.csv'))\n",
    "X, labels = data.iloc[:, :-1].to_numpy(), data.iloc[:, -1].to_numpy()\n",
    "y = pd.factorize(labels)[0]\n",
    "print(X.shape)\n",
    "X, labels"
   ]
  },
  {
   "cell_type": "markdown",
   "id": "5f4f7194-9240-4a33-9679-4fd8d83902cc",
   "metadata": {},
   "source": [
    "##### By TSNE"
   ]
  },
  {
   "cell_type": "code",
   "execution_count": 4,
   "id": "bf393f4b-3820-491a-a485-868aa55c56bc",
   "metadata": {
    "tags": []
   },
   "outputs": [
    {
     "name": "stdout",
     "output_type": "stream",
     "text": [
      "(array([ 0,  1,  2,  3,  4,  5,  6,  7,  8,  9, 10, 11, 12, 13, 14]), array([396, 171, 105,  42,  68, 144,  54,  95, 633, 325, 151, 169, 314,\n",
      "       103, 364]))\n",
      "(array([ 0,  1,  2,  3,  4,  5,  6,  7,  8,  9, 10, 11, 12, 13, 14]), array([183,  80,  45,  19,  32,  60,  24,  36, 241, 132,  73,  68, 151,\n",
      "        42, 158]))\n"
     ]
    }
   ],
   "source": [
    "# Split dataset into training set and test set\n",
    "X_train, X_test, y_train, y_test = train_test_split(X, y, test_size=0.3,random_state=109)\n",
    "print(np.unique(y_train, return_counts=True))\n",
    "print(np.unique(y_test, return_counts=True))"
   ]
  },
  {
   "cell_type": "markdown",
   "id": "8abfe2af-c94b-4482-8eeb-36f3fe8db444",
   "metadata": {},
   "source": [
    "### SVM"
   ]
  },
  {
   "cell_type": "code",
   "execution_count": 5,
   "id": "13f9e0d9-907e-4e9d-b53c-f7a9f757415f",
   "metadata": {
    "tags": []
   },
   "outputs": [
    {
     "name": "stdout",
     "output_type": "stream",
     "text": [
      "Accuracy: 0.33035714285714285\n",
      "Precision: 0.33035714285714285\n",
      "Recall: 0.33035714285714285\n"
     ]
    }
   ],
   "source": [
    "svm = SVC(kernel='rbf', gamma='auto')\n",
    "svm.fit(X_train, y_train)\n",
    "y_pred = svm.predict(X_test)\n",
    "\n",
    "print(\"Accuracy:\",metrics.accuracy_score(y_test, y_pred))\n",
    "# Model Precision: what percentage of positive tuples are labeled as such?\n",
    "print(\"Precision:\",metrics.precision_score(y_test, y_pred, average='micro'))\n",
    "\n",
    "# Model Recall: what percentage of positive tuples are labelled as such?\n",
    "print(\"Recall:\",metrics.recall_score(y_test, y_pred,  average='micro'))"
   ]
  },
  {
   "cell_type": "markdown",
   "id": "c0fa20eb-a57a-4eaf-b69c-e66905904262",
   "metadata": {
    "tags": []
   },
   "source": [
    "### Random Forest - XGBoost"
   ]
  },
  {
   "cell_type": "code",
   "execution_count": 6,
   "id": "1a52d215-c8cc-467a-8b1d-4d6a9fb57f16",
   "metadata": {},
   "outputs": [
    {
     "name": "stdout",
     "output_type": "stream",
     "text": [
      "Accuracy: 0.20461309523809523\n",
      "Precision: 0.20461309523809523\n",
      "Recall: 0.20461309523809523\n"
     ]
    }
   ],
   "source": [
    "rf = RandomForestClassifier(max_depth=2, random_state=0)\n",
    "rf.fit(X_train, y_train)\n",
    "y_pred = rf.predict(X_test)\n",
    "\n",
    "print(\"Accuracy:\",metrics.accuracy_score(y_test, y_pred))\n",
    "# Model Precision: what percentage of positive tuples are labeled as such?\n",
    "print(\"Precision:\",metrics.precision_score(y_test, y_pred, average='micro'))\n",
    "\n",
    "# Model Recall: what percentage of positive tuples are labelled as such?\n",
    "print(\"Recall:\",metrics.recall_score(y_test, y_pred,  average='micro'))"
   ]
  },
  {
   "cell_type": "markdown",
   "id": "9d85a9e2-c2dc-4cfa-8ea3-619f71945a6f",
   "metadata": {},
   "source": [
    "### Simple MLP"
   ]
  },
  {
   "cell_type": "code",
   "execution_count": 7,
   "id": "7c4fea1c-0345-49a7-9ece-1a9f93381cbe",
   "metadata": {
    "tags": []
   },
   "outputs": [],
   "source": [
    "learning_rate = 3e-2\n",
    "batch_size = 256\n",
    "epochs = 50\n",
    "n_classes = len(np.unique(y))"
   ]
  },
  {
   "cell_type": "code",
   "execution_count": 8,
   "id": "87809790-ef6d-4855-89a5-680209b7e3e2",
   "metadata": {
    "tags": []
   },
   "outputs": [],
   "source": [
    "class BrainTumorDataset(Dataset):\n",
    "    def __init__(self, X, y):\n",
    "        self.X = X\n",
    "        self.y = y\n",
    "\n",
    "    def __len__(self):\n",
    "        return len(X)\n",
    "\n",
    "    def __getitem__(self, idx):\n",
    "        X_i = self.X[idx]\n",
    "        y_i = self.y[idx]\n",
    "        \n",
    "        return X_i, y_i"
   ]
  },
  {
   "cell_type": "code",
   "execution_count": 9,
   "id": "e7332209-41ef-4748-a3ae-95f900514952",
   "metadata": {},
   "outputs": [],
   "source": [
    "class SimpleMLP(torch.nn.Module):\n",
    "\n",
    "    def __init__(self, n_class):\n",
    "        super(SimpleMLP, self).__init__()\n",
    "        self.mlp = torch.nn.Sequential(torch.nn.Linear(64, 128),\n",
    "                                       torch.nn.ReLU(),\n",
    "                                       torch.nn.Linear(128, 256),\n",
    "                                       torch.nn.ReLU(),\n",
    "                                       torch.nn.Linear(256, 128),\n",
    "                                       torch.nn.ReLU(),\n",
    "                                       torch.nn.Linear(128, 64),\n",
    "                                       torch.nn.ReLU(),\n",
    "                                       torch.nn.Linear(64, 32),\n",
    "                                       torch.nn.ReLU(),\n",
    "                                       torch.nn.Linear(32, 16),\n",
    "                                       torch.nn.ReLU(),\n",
    "                                       torch.nn.Linear(16, n_class),)\n",
    "                                       #torch.nn.Softmax(dim=1))\n",
    "\n",
    "    def forward(self, x):\n",
    "        x = self.mlp(x)\n",
    "        return x\n",
    "\n",
    "model = SimpleMLP(n_classes).type(torch.float64)"
   ]
  },
  {
   "cell_type": "code",
   "execution_count": 11,
   "id": "efadecb2-08ac-4799-88e1-0b71bca6bf7a",
   "metadata": {
    "tags": []
   },
   "outputs": [],
   "source": [
    "train_dataset = BrainTumorDataset(X, y)\n",
    "train_dataloader = DataLoader(train_dataset, batch_size=batch_size, shuffle=True)\n",
    "\n",
    "#test_dataset = BrainTumorDataset(test_image_dict, data_path, transform=transforms.ToTensor())\n",
    "#test_dataloader = DataLoader(test_dataset, batch_size=batch_size, shuffle=True)\n",
    "\n",
    "#val_dataset = BrainTumorDataset(val_image_dict, data_path, transform=transforms.ToTensor())\n",
    "#val_dataloader = DataLoader(val_dataset, batch_size=batch_size, shuffle=True)"
   ]
  },
  {
   "cell_type": "code",
   "execution_count": 12,
   "id": "1dd7f267-fc1c-412b-854e-297fff8a33ff",
   "metadata": {
    "tags": []
   },
   "outputs": [],
   "source": [
    "loss_fn = nn.CrossEntropyLoss()\n",
    "#params = [p for p in vgg19.parameters() if p.requires_grad]\n",
    "optimizer = torch.optim.SGD(model.parameters(), lr=learning_rate, momentum=0.9)"
   ]
  },
  {
   "cell_type": "code",
   "execution_count": 13,
   "id": "c9c09d1e-eac3-4e62-b37c-709b04c5a2ed",
   "metadata": {
    "tags": []
   },
   "outputs": [
    {
     "name": "stdout",
     "output_type": "stream",
     "text": [
      "------------ Epoch: 0 ------------\n",
      "Training loss: 1.189704, validation loss: 0.000000\n",
      "Time elapsed: 0.952988862991333\n",
      "------------ Epoch: 1 ------------\n",
      "Training loss: 1.189349, validation loss: 0.000000\n",
      "Time elapsed: 0.0416715145111084\n",
      "------------ Epoch: 2 ------------\n",
      "Training loss: 1.188900, validation loss: 0.000000\n",
      "Time elapsed: 0.039703369140625\n",
      "------------ Epoch: 3 ------------\n",
      "Training loss: 1.188435, validation loss: 0.000000\n",
      "Time elapsed: 0.03572225570678711\n",
      "------------ Epoch: 4 ------------\n",
      "Training loss: 1.187954, validation loss: 0.000000\n",
      "Time elapsed: 0.034783363342285156\n",
      "------------ Epoch: 5 ------------\n",
      "Training loss: 1.187429, validation loss: 0.000000\n",
      "Time elapsed: 0.0352787971496582\n",
      "------------ Epoch: 6 ------------\n",
      "Training loss: 1.186901, validation loss: 0.000000\n",
      "Time elapsed: 0.03485274314880371\n",
      "------------ Epoch: 7 ------------\n",
      "Training loss: 1.186334, validation loss: 0.000000\n",
      "Time elapsed: 0.03690505027770996\n",
      "------------ Epoch: 8 ------------\n",
      "Training loss: 1.185682, validation loss: 0.000000\n",
      "Time elapsed: 0.03415536880493164\n",
      "------------ Epoch: 9 ------------\n",
      "Training loss: 1.184983, validation loss: 0.000000\n",
      "Time elapsed: 0.033966064453125\n",
      "------------ Epoch: 10 ------------\n",
      "Training loss: 1.184242, validation loss: 0.000000\n",
      "Time elapsed: 0.03499102592468262\n",
      "------------ Epoch: 11 ------------\n",
      "Training loss: 1.183303, validation loss: 0.000000\n",
      "Time elapsed: 0.034635066986083984\n",
      "------------ Epoch: 12 ------------\n",
      "Training loss: 1.182366, validation loss: 0.000000\n",
      "Time elapsed: 0.03552079200744629\n",
      "------------ Epoch: 13 ------------\n",
      "Training loss: 1.181137, validation loss: 0.000000\n",
      "Time elapsed: 0.035286903381347656\n",
      "------------ Epoch: 14 ------------\n",
      "Training loss: 1.179740, validation loss: 0.000000\n",
      "Time elapsed: 0.03569936752319336\n",
      "------------ Epoch: 15 ------------\n",
      "Training loss: 1.178026, validation loss: 0.000000\n",
      "Time elapsed: 0.03459525108337402\n",
      "------------ Epoch: 16 ------------\n",
      "Training loss: 1.175766, validation loss: 0.000000\n",
      "Time elapsed: 0.035695552825927734\n",
      "------------ Epoch: 17 ------------\n",
      "Training loss: 1.172631, validation loss: 0.000000\n",
      "Time elapsed: 0.033980607986450195\n",
      "------------ Epoch: 18 ------------\n",
      "Training loss: 1.168441, validation loss: 0.000000\n",
      "Time elapsed: 0.034693241119384766\n",
      "------------ Epoch: 19 ------------\n",
      "Training loss: 1.162733, validation loss: 0.000000\n",
      "Time elapsed: 0.03436398506164551\n",
      "------------ Epoch: 20 ------------\n",
      "Training loss: 1.157112, validation loss: 0.000000\n",
      "Time elapsed: 0.037224531173706055\n",
      "------------ Epoch: 21 ------------\n",
      "Training loss: 1.152927, validation loss: 0.000000\n",
      "Time elapsed: 0.03639721870422363\n",
      "------------ Epoch: 22 ------------\n",
      "Training loss: 1.151376, validation loss: 0.000000\n",
      "Time elapsed: 0.03692889213562012\n",
      "------------ Epoch: 23 ------------\n",
      "Training loss: 1.151335, validation loss: 0.000000\n",
      "Time elapsed: 0.03716087341308594\n",
      "------------ Epoch: 24 ------------\n",
      "Training loss: 1.151810, validation loss: 0.000000\n",
      "Time elapsed: 0.036951303482055664\n",
      "------------ Epoch: 25 ------------\n",
      "Training loss: 1.150610, validation loss: 0.000000\n",
      "Time elapsed: 0.03522992134094238\n",
      "------------ Epoch: 26 ------------\n",
      "Training loss: 1.150971, validation loss: 0.000000\n",
      "Time elapsed: 0.03546857833862305\n",
      "------------ Epoch: 27 ------------\n",
      "Training loss: 1.150664, validation loss: 0.000000\n",
      "Time elapsed: 0.03465008735656738\n",
      "------------ Epoch: 28 ------------\n",
      "Training loss: 1.150958, validation loss: 0.000000\n",
      "Time elapsed: 0.03522825241088867\n",
      "------------ Epoch: 29 ------------\n",
      "Training loss: 1.150567, validation loss: 0.000000\n",
      "Time elapsed: 0.03612089157104492\n",
      "------------ Epoch: 30 ------------\n",
      "Training loss: 1.150705, validation loss: 0.000000\n",
      "Time elapsed: 0.03463578224182129\n",
      "------------ Epoch: 31 ------------\n",
      "Training loss: 1.150414, validation loss: 0.000000\n",
      "Time elapsed: 0.03699159622192383\n",
      "------------ Epoch: 32 ------------\n",
      "Training loss: 1.150648, validation loss: 0.000000\n",
      "Time elapsed: 0.03604388236999512\n",
      "------------ Epoch: 33 ------------\n",
      "Training loss: 1.149841, validation loss: 0.000000\n",
      "Time elapsed: 0.03527069091796875\n",
      "------------ Epoch: 34 ------------\n",
      "Training loss: 1.150811, validation loss: 0.000000\n",
      "Time elapsed: 0.03555130958557129\n",
      "------------ Epoch: 35 ------------\n",
      "Training loss: 1.150795, validation loss: 0.000000\n",
      "Time elapsed: 0.033892154693603516\n",
      "------------ Epoch: 36 ------------\n",
      "Training loss: 1.150661, validation loss: 0.000000\n",
      "Time elapsed: 0.03493213653564453\n",
      "------------ Epoch: 37 ------------\n",
      "Training loss: 1.150084, validation loss: 0.000000\n",
      "Time elapsed: 0.035144805908203125\n",
      "------------ Epoch: 38 ------------\n",
      "Training loss: 1.150719, validation loss: 0.000000\n",
      "Time elapsed: 0.034012556076049805\n",
      "------------ Epoch: 39 ------------\n",
      "Training loss: 1.150899, validation loss: 0.000000\n",
      "Time elapsed: 0.03395366668701172\n",
      "------------ Epoch: 40 ------------\n",
      "Training loss: 1.150944, validation loss: 0.000000\n",
      "Time elapsed: 0.03431415557861328\n",
      "------------ Epoch: 41 ------------\n",
      "Training loss: 1.150205, validation loss: 0.000000\n",
      "Time elapsed: 0.035031795501708984\n",
      "------------ Epoch: 42 ------------\n",
      "Training loss: 1.150422, validation loss: 0.000000\n",
      "Time elapsed: 0.03468132019042969\n",
      "------------ Epoch: 43 ------------\n",
      "Training loss: 1.150774, validation loss: 0.000000\n",
      "Time elapsed: 0.03491806983947754\n",
      "------------ Epoch: 44 ------------\n",
      "Training loss: 1.150663, validation loss: 0.000000\n",
      "Time elapsed: 0.033499717712402344\n",
      "------------ Epoch: 45 ------------\n",
      "Training loss: 1.150348, validation loss: 0.000000\n",
      "Time elapsed: 0.03366422653198242\n",
      "------------ Epoch: 46 ------------\n",
      "Training loss: 1.150820, validation loss: 0.000000\n",
      "Time elapsed: 0.03334832191467285\n",
      "------------ Epoch: 47 ------------\n",
      "Training loss: 1.150603, validation loss: 0.000000\n",
      "Time elapsed: 0.033974647521972656\n",
      "------------ Epoch: 48 ------------\n",
      "Training loss: 1.150248, validation loss: 0.000000\n",
      "Time elapsed: 0.03452157974243164\n",
      "------------ Epoch: 49 ------------\n",
      "Training loss: 1.149911, validation loss: 0.000000\n",
      "Time elapsed: 0.036470890045166016\n"
     ]
    },
    {
     "data": {
      "text/plain": [
       "Text(0.5, 0, 'Epoch')"
      ]
     },
     "execution_count": 13,
     "metadata": {},
     "output_type": "execute_result"
    },
    {
     "data": {
      "image/png": "[encoded data removed]",
      "text/plain": [
       "<Figure size 640x480 with 1 Axes>"
      ]
     },
     "metadata": {},
     "output_type": "display_data"
    }
   ],
   "source": [
    "model.to(device)\n",
    "all_loss = []\n",
    "all_valid_loss = []\n",
    "for epoch in range(epochs):\n",
    "    size = len(train_dataloader.dataset)\n",
    "    print(\"------------ Epoch:\", epoch, \"------------\")\n",
    "    training_loss = 0\n",
    "    valid_loss = 0\n",
    "    start = time.time()\n",
    "    for batch, (train_X, train_y) in enumerate(train_dataloader):\n",
    "        # Compute prediction and loss\n",
    "        pred = model(train_X.to(device))\n",
    "        #print(torch.sum(pred[0]))\n",
    "        loss = loss_fn(pred, train_y.to(device))\n",
    "\n",
    "        # Backpropagation\n",
    "        optimizer.zero_grad()\n",
    "        loss.backward()\n",
    "        optimizer.step()\n",
    "\n",
    "        loss, current = loss.item(), (batch + 1) * len(X)\n",
    "        #print(loss)\n",
    "        training_loss += loss\n",
    "        \n",
    "    print(f\"Training loss: {training_loss/41:>7f}, validation loss: {valid_loss/41:>7f}\")\n",
    "    end = time.time()\n",
    "    print(\"Time elapsed:\", end - start)\n",
    "    all_loss.append(training_loss)\n",
    "    all_valid_loss.append(valid_loss)\n",
    "\n",
    "fig = plt.figure()\n",
    "plt.plot(range(1, epochs+1), all_loss)\n",
    "plt.plot(range(1, epochs+1), all_valid_loss)\n",
    "plt.xlabel('Epoch', fontsize=12)"
   ]
  }
 ],
 "metadata": {
  "kernelspec": {
   "display_name": "Python 3 (ipykernel)",
   "language": "python",
   "name": "python3"
  },
  "language_info": {
   "codemirror_mode": {
    "name": "ipython",
    "version": 3
   },
   "file_extension": ".py",
   "mimetype": "text/x-python",
   "name": "python",
   "nbconvert_exporter": "python",
   "pygments_lexer": "ipython3",
   "version": "3.8.10"
  }
 },
 "nbformat": 4,
 "nbformat_minor": 5
}
