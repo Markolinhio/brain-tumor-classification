{
 "cells": [
  {
   "cell_type": "code",
   "execution_count": null,
   "id": "2e429e11-78c4-4749-a374-3b690f0838b0",
   "metadata": {},
   "outputs": [],
   "source": [
    "from pathlib import Path\n",
    "from tqdm import tqdm\n",
    "import cv2\n",
    "import os\n",
    "import numpy as np\n",
    "import matplotlib.pyplot as plt\n",
    "import json"
   ]
  },
  {
   "cell_type": "code",
   "execution_count": null,
   "id": "85a12af1-adad-4b61-9bd4-43944e362ea4",
   "metadata": {},
   "outputs": [],
   "source": [
    "root_path = os.path.dirname(os.getcwd())\n",
    "data_path = os.path.join(root_path, \"filtered-brain-tumors-shortened\")\n",
    "image_dict = json.load(open(os.path.join(data_path, 'image_dict.json'), 'r'))\n",
    "print(*image_dict.keys(), sep=', ')"
   ]
  },
  {
   "cell_type": "markdown",
   "id": "3e0b0128-b41c-4553-8aad-870fc8933687",
   "metadata": {},
   "source": [
    "### Build feature map"
   ]
  },
  {
   "cell_type": "code",
   "execution_count": null,
   "id": "e7332209-41ef-4748-a3ae-95f900514952",
   "metadata": {},
   "outputs": [],
   "source": []
  }
 ],
 "metadata": {
  "kernelspec": {
   "display_name": "Python 3 (ipykernel)",
   "language": "python",
   "name": "python3"
  },
  "language_info": {
   "codemirror_mode": {
    "name": "ipython",
    "version": 3
   },
   "file_extension": ".py",
   "mimetype": "text/x-python",
   "name": "python",
   "nbconvert_exporter": "python",
   "pygments_lexer": "ipython3",
   "version": "3.8.10"
  }
 },
 "nbformat": 4,
 "nbformat_minor": 5
}
