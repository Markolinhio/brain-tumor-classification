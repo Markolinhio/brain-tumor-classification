{
 "cells": [
  {
   "cell_type": "code",
   "execution_count": 2,
   "id": "b9e27852-c847-4b2e-9668-793fb79c1362",
   "metadata": {
    "tags": []
   },
   "outputs": [
    {
     "name": "stdout",
     "output_type": "stream",
     "text": [
      "Looking in indexes: https://pypi.org/simple, https://pypi.ngc.nvidia.com\n",
      "/usr/share/python-wheels/urllib3-1.25.8-py2.py3-none-any.whl/urllib3/connectionpool.py:999: InsecureRequestWarning: Unverified HTTPS request is being made to host 'pypi.ngc.nvidia.com'. Adding certificate verification is strongly advised. See: https://urllib3.readthedocs.io/en/latest/advanced-usage.html#ssl-warnings\n",
      "Collecting opencv-python\n",
      "  Downloading opencv_python-4.7.0.72-cp37-abi3-manylinux_2_17_x86_64.manylinux2014_x86_64.whl (61.8 MB)\n",
      "\u001b[K     |████████████████████████████████| 61.8 MB 9.7 MB/s eta 0:00:012\n",
      "\u001b[?25hRequirement already satisfied: numpy>=1.17.3; python_version >= \"3.8\" in /home/khoa-ys/Projects/venv_for_projects/bio_ml_venv/lib/python3.8/site-packages (from opencv-python) (1.24.2)\n",
      "Installing collected packages: opencv-python\n",
      "Successfully installed opencv-python-4.7.0.72\n"
     ]
    }
   ],
   "source": [
    "!pip install opencv-python"
   ]
  },
  {
   "cell_type": "code",
   "execution_count": 1,
   "id": "0789cb7b-241a-464e-b1e9-90efd6bf2619",
   "metadata": {},
   "outputs": [
    {
     "ename": "ModuleNotFoundError",
     "evalue": "No module named 'cv2'",
     "output_type": "error",
     "traceback": [
      "\u001b[0;31m---------------------------------------------------------------------------\u001b[0m",
      "\u001b[0;31mModuleNotFoundError\u001b[0m                       Traceback (most recent call last)",
      "Cell \u001b[0;32mIn[1], line 3\u001b[0m\n\u001b[1;32m      1\u001b[0m \u001b[38;5;28;01mfrom\u001b[39;00m \u001b[38;5;21;01mpathlib\u001b[39;00m \u001b[38;5;28;01mimport\u001b[39;00m Path\n\u001b[1;32m      2\u001b[0m \u001b[38;5;28;01mfrom\u001b[39;00m \u001b[38;5;21;01mtqdm\u001b[39;00m \u001b[38;5;28;01mimport\u001b[39;00m tqdm\n\u001b[0;32m----> 3\u001b[0m \u001b[38;5;28;01mimport\u001b[39;00m \u001b[38;5;21;01mcv2\u001b[39;00m\n\u001b[1;32m      4\u001b[0m \u001b[38;5;28;01mimport\u001b[39;00m \u001b[38;5;21;01mpickle\u001b[39;00m\n\u001b[1;32m      5\u001b[0m \u001b[38;5;28;01mimport\u001b[39;00m \u001b[38;5;21;01mos\u001b[39;00m\n",
      "\u001b[0;31mModuleNotFoundError\u001b[0m: No module named 'cv2'"
     ]
    }
   ],
   "source": [
    "from pathlib import Path\n",
    "from tqdm import tqdm\n",
    "import cv2\n",
    "import pickle\n",
    "import os\n",
    "import numpy as np\n",
    "import matplotlib.pyplot as plt"
   ]
  },
  {
   "cell_type": "markdown",
   "id": "d4ddacab-beff-40c9-906e-58f282c2ad1f",
   "metadata": {},
   "source": [
    "### Load dataset"
   ]
  },
  {
   "cell_type": "code",
   "execution_count": null,
   "id": "efccd4e7-459e-449e-8fe2-011133d05dc0",
   "metadata": {},
   "outputs": [],
   "source": [
    "data_path = \"/media/khoa-ys/Personal/Projects/ML in Bioinformatics/brain_tumor_44_classes\"\n",
    "image_list = [data_path + \"/\" + folder_name + \"/\" + fname \n",
    "                     for folder_name in os.listdir(data_path)\n",
    "                     for fname in os.listdir(data_path+ \"/\" + folder_name)]\n",
    "\n",
    "for folder_name in os.listdir(data_path):\n",
    "    for fname in os.listdir(data_path+ \"/\" + folder_name):\n",
    "        cluster_labels.append(folder_name)\n",
    "        \n",
    "label_dict = dict(zip(np.unique(cluster_labels), range(1, len(cluster_labels)+2)))\n",
    "modified_class = [label_dict[label] for label in cluster_labels]\n",
    "plt.figure(figsize=(20, 5))\n",
    "plt.hist(modified_class, bins=list(label_dict.values()))\n",
    "plt.xticks(list(label_dict.values()))\n",
    "plt.legend()\n",
    "plt.show()"
   ]
  },
  {
   "cell_type": "markdown",
   "id": "ab5a5a5c-bf30-464d-a794-eef1fc5872f8",
   "metadata": {},
   "source": [
    "### Class imbalance:"
   ]
  },
  {
   "cell_type": "code",
   "execution_count": null,
   "id": "39ea3832-ec39-47bb-ae8d-0f465fd5485f",
   "metadata": {},
   "outputs": [],
   "source": []
  },
  {
   "cell_type": "markdown",
   "id": "492c387a-ab5c-4121-9210-5a5e22d3a582",
   "metadata": {},
   "source": [
    "### Data augmentations"
   ]
  },
  {
   "cell_type": "code",
   "execution_count": null,
   "id": "04ac6fca-e7f4-4362-8cf0-f44a679be1f2",
   "metadata": {},
   "outputs": [],
   "source": []
  },
  {
   "cell_type": "markdown",
   "id": "0c9b4c12-64d8-4394-8937-73d27cf41ac3",
   "metadata": {},
   "source": [
    "### Other stuff"
   ]
  },
  {
   "cell_type": "code",
   "execution_count": null,
   "id": "60d86e48-8ad5-468a-b1ff-cadabb895771",
   "metadata": {},
   "outputs": [],
   "source": []
  }
 ],
 "metadata": {
  "kernelspec": {
   "display_name": "Python 3 (ipykernel)",
   "language": "python",
   "name": "python3"
  },
  "language_info": {
   "codemirror_mode": {
    "name": "ipython",
    "version": 3
   },
   "file_extension": ".py",
   "mimetype": "text/x-python",
   "name": "python",
   "nbconvert_exporter": "python",
   "pygments_lexer": "ipython3",
   "version": "3.8.10"
  }
 },
 "nbformat": 4,
 "nbformat_minor": 5
}
