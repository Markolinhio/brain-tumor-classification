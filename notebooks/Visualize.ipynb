{
 "cells": [
  {
   "cell_type": "code",
   "execution_count": 1,
   "id": "0789cb7b-241a-464e-b1e9-90efd6bf2619",
   "metadata": {},
   "outputs": [],
   "source": [
    "import fiftyone as fo\n",
    "import fiftyone.zoo as foz\n",
    "import fiftyone.brain as fob\n",
    "from pathlib import Path\n",
    "from tqdm import tqdm\n",
    "import cv2\n",
    "import pickle\n",
    "import os\n",
    "import numpy as np\n",
    "import matplotlib.pyplot as plt"
   ]
  },
  {
   "cell_type": "code",
   "execution_count": 2,
   "id": "212f72e2-e38d-4693-a6c4-970b5ba11de3",
   "metadata": {},
   "outputs": [
    {
     "name": "stderr",
     "output_type": "stream",
     "text": [
      "/home/khoa-ys/Projects/synthetic_data/fiftyone_venv/lib/python3.8/site-packages/torchvision/models/_utils.py:208: UserWarning: The parameter 'pretrained' is deprecated since 0.13 and may be removed in the future, please use 'weights' instead.\n",
      "  warnings.warn(\n",
      "/home/khoa-ys/Projects/synthetic_data/fiftyone_venv/lib/python3.8/site-packages/torchvision/models/_utils.py:223: UserWarning: Arguments other than a weight enum or `None` for 'weights' are deprecated since 0.13 and may be removed in the future. The current behavior is equivalent to passing `weights=ResNet50_Weights.IMAGENET1K_V1`. You can also use `weights=ResNet50_Weights.DEFAULT` to get the most up-to-date weights.\n",
      "  warnings.warn(msg)\n"
     ]
    },
    {
     "name": "stdout",
     "output_type": "stream",
     "text": [
      "True\n"
     ]
    }
   ],
   "source": [
    " # Load a resnet from the model zoo\n",
    "model = foz.load_zoo_model(\"resnet50-imagenet-torch\")\n",
    "\n",
    "# Verify that the model exposes embeddings\n",
    "print(model.has_embeddings)"
   ]
  },
  {
   "cell_type": "code",
   "execution_count": 3,
   "id": "12823dc5-70e3-4393-b51e-0d759000d205",
   "metadata": {},
   "outputs": [
    {
     "name": "stdout",
     "output_type": "stream",
     "text": [
      " 100% |███████████████| 4478/4478 [548.1ms elapsed, 0s remaining, 8.2K samples/s]      \n",
      "<Sample: {\n",
      "    'id': '643cdfc59f4babbe0b685e7a',\n",
      "    'media_type': 'image',\n",
      "    'filepath': '/media/khoa-ys/Personal/Projects/ML in Bioinformatics/brain_tumor_44_classes/Astrocitoma T1/005_big_gallery.jpeg',\n",
      "    'tags': BaseList([]),\n",
      "    'metadata': None,\n",
      "    'ground_truth': <Classification: {\n",
      "        'id': '643cdfc59f4babbe0b684cfb',\n",
      "        'tags': BaseList([]),\n",
      "        'label': 'Astrocitoma T1',\n",
      "        'confidence': None,\n",
      "        'logits': None,\n",
      "    }>,\n",
      "}>\n",
      "<bound method SampleCollection.values of Name:        2023.04.17.08.57.25\n",
      "Media type:  image\n",
      "Num samples: 4478\n",
      "Persistent:  False\n",
      "Tags:        []\n",
      "Sample fields:\n",
      "    id:           fiftyone.core.fields.ObjectIdField\n",
      "    filepath:     fiftyone.core.fields.StringField\n",
      "    tags:         fiftyone.core.fields.ListField(fiftyone.core.fields.StringField)\n",
      "    metadata:     fiftyone.core.fields.EmbeddedDocumentField(fiftyone.core.metadata.ImageMetadata)\n",
      "    ground_truth: fiftyone.core.fields.EmbeddedDocumentField(fiftyone.core.labels.Classification)>\n"
     ]
    },
    {
     "data": {
      "text/plain": [
       "Name:        2023.04.17.08.57.25\n",
       "Media type:  image\n",
       "Num samples: 4478\n",
       "Persistent:  False\n",
       "Tags:        []\n",
       "Sample fields:\n",
       "    id:           fiftyone.core.fields.ObjectIdField\n",
       "    filepath:     fiftyone.core.fields.StringField\n",
       "    tags:         fiftyone.core.fields.ListField(fiftyone.core.fields.StringField)\n",
       "    metadata:     fiftyone.core.fields.EmbeddedDocumentField(fiftyone.core.metadata.ImageMetadata)\n",
       "    ground_truth: fiftyone.core.fields.EmbeddedDocumentField(fiftyone.core.labels.Classification)"
      ]
     },
     "execution_count": 3,
     "metadata": {},
     "output_type": "execute_result"
    }
   ],
   "source": [
    "# Load data into fiftyone dataset\n",
    "data_path = \"/media/khoa-ys/Personal/Projects/ML in Bioinformatics/brain_tumor_44_classes\"\n",
    "image_list = [data_path + \"/\" + folder_name + \"/\" + fname \n",
    "                     for folder_name in os.listdir(data_path)\n",
    "                     for fname in os.listdir(data_path+ \"/\" + folder_name)]\n",
    "samples = []\n",
    "cluster_labels = []\n",
    "for folder_name in os.listdir(data_path):\n",
    "    for fname in os.listdir(data_path+ \"/\" + folder_name):\n",
    "        file_path = data_path + \"/\" + folder_name + \"/\" + fname \n",
    "        sample = fo.Sample(filepath=file_path)\n",
    "        sample[\"ground_truth\"] = fo.Classification(label=folder_name)\n",
    "        cluster_labels.append(folder_name)\n",
    "        samples.append(sample)\n",
    "dataset = fo.Dataset()\n",
    "dataset.add_samples(samples)\n",
    "print(dataset.first())\n",
    "print(dataset.values)\n",
    "\n",
    "\"\"\"\n",
    "# Export dataset for future uses\n",
    "dataset.export(\n",
    "    export_dir='brain_tumor', dataset_type=fo.types.ImageDirectory\n",
    ")\n",
    "\"\"\"\n",
    "\n",
    "dataset"
   ]
  },
  {
   "cell_type": "code",
   "execution_count": 4,
   "id": "cd316b2a-bd73-4d91-afac-c50c8093fc02",
   "metadata": {},
   "outputs": [
    {
     "name": "stdout",
     "output_type": "stream",
     "text": [
      " 100% |███████████████| 4478/4478 [52.5s elapsed, 0s remaining, 85.7 samples/s]      \n"
     ]
    },
    {
     "data": {
      "text/plain": [
       "(4478, 2048)"
      ]
     },
     "execution_count": 4,
     "metadata": {},
     "output_type": "execute_result"
    }
   ],
   "source": [
    "# Compute embeddings from the images \n",
    "embeddings = dataset.compute_embeddings(model)\n",
    "# Save embeddings for future uses\n",
    "with open('embeddings.pickle', 'wb') as handle:\n",
    "    pickle.dump({'img_list':image_list, 'embedding': embeddings}, handle, protocol=pickle.HIGHEST_PROTOCOL)\n",
    "data = {'img_list':image_list, 'embedding': embeddings}\n",
    "\"\"\"\n",
    "# Load the saved embeddings\n",
    "with open('embeddings.pickle', 'rb') as handle:\n",
    "    data = pickle.load(handle)\n",
    "embeddings = data[\"embedding\"]\n",
    "\"\"\"\n",
    "embeddings.shape"
   ]
  },
  {
   "cell_type": "code",
   "execution_count": 11,
   "id": "df0484ae",
   "metadata": {},
   "outputs": [
    {
     "name": "stderr",
     "output_type": "stream",
     "text": [
      "No artists with labels found to put in legend.  Note that artists whose label start with an underscore are ignored when legend() is called with no argument.\n"
     ]
    },
    {
     "data": {
      "image/png": "[encoded data removed]",
      "text/plain": [
       "<Figure size 1440x720 with 1 Axes>"
      ]
     },
     "metadata": {
      "needs_background": "light"
     },
     "output_type": "display_data"
    }
   ],
   "source": [
    "label_dict = dict(zip(np.unique(cluster_labels), range(1, len(cluster_labels)+2)))\n",
    "modified_class = [label_dict[label] for label in cluster_labels]\n",
    "plt.figure(figsize=(20, 10))\n",
    "plt.hist(modified_class, bins=list(label_dict.values()))\n",
    "plt.xticks(list(label_dict.values()))\n",
    "plt.yticks(range(0, 551, 20))\n",
    "plt.legend()\n",
    "plt.show()"
   ]
  },
  {
   "cell_type": "code",
   "execution_count": 6,
   "id": "2d6a212a-cd8b-4da1-97d9-7cc7f8213ccf",
   "metadata": {},
   "outputs": [
    {
     "name": "stdout",
     "output_type": "stream",
     "text": [
      "Generating visualization...\n",
      "[t-SNE] Computing 91 nearest neighbors...\n",
      "[t-SNE] Indexed 4478 samples in 0.000s...\n",
      "[t-SNE] Computed neighbors for 4478 samples in 0.248s...\n",
      "[t-SNE] Computed conditional probabilities for sample 1000 / 4478\n",
      "[t-SNE] Computed conditional probabilities for sample 2000 / 4478\n",
      "[t-SNE] Computed conditional probabilities for sample 3000 / 4478\n",
      "[t-SNE] Computed conditional probabilities for sample 4000 / 4478\n",
      "[t-SNE] Computed conditional probabilities for sample 4478 / 4478\n",
      "[t-SNE] Mean sigma: 2.059524\n",
      "[t-SNE] Computed conditional probabilities in 0.048s\n"
     ]
    },
    {
     "name": "stderr",
     "output_type": "stream",
     "text": [
      "/home/khoa-ys/Projects/synthetic_data/fiftyone_venv/lib/python3.8/site-packages/sklearn/manifold/_t_sne.py:991: FutureWarning: The PCA initialization in TSNE will change to have the standard deviation of PC1 equal to 1e-4 in 1.2. This will ensure better convergence.\n",
      "  warnings.warn(\n"
     ]
    },
    {
     "name": "stdout",
     "output_type": "stream",
     "text": [
      "[t-SNE] Iteration 50: error = 77.9479294, gradient norm = 0.0067719 (50 iterations in 0.314s)\n",
      "[t-SNE] Iteration 100: error = 79.0593796, gradient norm = 0.0031234 (50 iterations in 0.233s)\n",
      "[t-SNE] Iteration 150: error = 79.1544876, gradient norm = 0.0010340 (50 iterations in 0.235s)\n",
      "[t-SNE] Iteration 200: error = 79.1439667, gradient norm = 0.0004244 (50 iterations in 0.559s)\n",
      "[t-SNE] Iteration 250: error = 79.1291046, gradient norm = 0.0004897 (50 iterations in 0.233s)\n",
      "[t-SNE] KL divergence after 250 iterations with early exaggeration: 79.129105\n",
      "[t-SNE] Iteration 300: error = 1.7714844, gradient norm = 0.0012612 (50 iterations in 0.227s)\n",
      "[t-SNE] Iteration 350: error = 1.3014351, gradient norm = 0.0005212 (50 iterations in 0.237s)\n",
      "[t-SNE] Iteration 400: error = 1.1146282, gradient norm = 0.0002970 (50 iterations in 0.272s)\n",
      "[t-SNE] Iteration 450: error = 1.0195532, gradient norm = 0.0002020 (50 iterations in 0.237s)\n",
      "[t-SNE] Iteration 500: error = 0.9657267, gradient norm = 0.0001592 (50 iterations in 0.227s)\n",
      "[t-SNE] Iteration 550: error = 0.9349666, gradient norm = 0.0001348 (50 iterations in 0.314s)\n",
      "[t-SNE] Iteration 600: error = 0.9175985, gradient norm = 0.0001234 (50 iterations in 0.228s)\n",
      "[t-SNE] Iteration 650: error = 0.9065064, gradient norm = 0.0001049 (50 iterations in 0.247s)\n",
      "[t-SNE] Iteration 700: error = 0.8977264, gradient norm = 0.0000942 (50 iterations in 0.241s)\n",
      "[t-SNE] Iteration 750: error = 0.8902182, gradient norm = 0.0000901 (50 iterations in 0.220s)\n",
      "[t-SNE] Iteration 800: error = 0.8839177, gradient norm = 0.0000902 (50 iterations in 0.226s)\n",
      "[t-SNE] Iteration 850: error = 0.8792791, gradient norm = 0.0000835 (50 iterations in 0.236s)\n",
      "[t-SNE] Iteration 900: error = 0.8755729, gradient norm = 0.0000796 (50 iterations in 0.226s)\n",
      "[t-SNE] Iteration 950: error = 0.8718560, gradient norm = 0.0000749 (50 iterations in 0.240s)\n",
      "[t-SNE] Iteration 1000: error = 0.8685279, gradient norm = 0.0000817 (50 iterations in 0.220s)\n",
      "[t-SNE] KL divergence after 1000 iterations: 0.868528\n"
     ]
    }
   ],
   "source": [
    "# Compute 2D representation using pre-computed embeddings\n",
    "results = fob.compute_visualization(\n",
    "    dataset,\n",
    "    embeddings=embeddings,\n",
    "    num_dims=2,\n",
    "    method=\"tsne\",\n",
    "    brain_key=\"image_embeddings\",\n",
    "    verbose=True,\n",
    "    seed=51,\n",
    ")\n",
    "data['2d-embeddings'] = results.points"
   ]
  },
  {
   "cell_type": "code",
   "execution_count": 7,
   "id": "52b3f7be-f4ec-48bd-9368-1537bb352038",
   "metadata": {},
   "outputs": [
    {
     "data": {
      "text/html": [
       "\n",
       "        <iframe\n",
       "            width=\"100%\"\n",
       "            height=\"800\"\n",
       "            src=\"http://localhost:5151/?context=ipython&subscription=94ee94cd-3271-4bf5-a344-ae87697e359a\"\n",
       "            frameborder=\"0\"\n",
       "            allowfullscreen\n",
       "            \n",
       "        ></iframe>\n",
       "        "
      ],
      "text/plain": [
       "<IPython.lib.display.IFrame at 0x7f49ac15a100>"
      ]
     },
     "metadata": {},
     "output_type": "display_data"
    },
    {
     "data": {
      "text/plain": []
     },
     "metadata": {},
     "output_type": "display_data"
    },
    {
     "data": {
      "text/plain": []
     },
     "metadata": {},
     "output_type": "display_data"
    },
    {
     "data": {
      "application/vnd.jupyter.widget-view+json": {
       "model_id": "621215fae7f04057ad9cf06efb4b56ae",
       "version_major": 2,
       "version_minor": 0
      },
      "text/plain": [
       "FigureWidget({\n",
       "    'data': [{'customdata': array(['643cdfc59f4babbe0b685e7a', '643cdfc59f4babbe0b685e7c',\n",
       "    …"
      ]
     },
     "metadata": {},
     "output_type": "display_data"
    }
   ],
   "source": [
    "session = fo.launch_app(dataset)\n",
    "# Plot embeddings\n",
    "plot = results.visualize(labels=cluster_labels)\n",
    "plot.show(height=720)\n",
    "\n",
    "# Attach plot to session\n",
    "session.plots.attach(plot)"
   ]
  }
 ],
 "metadata": {
  "kernelspec": {
   "display_name": "Python 3 (ipykernel)",
   "language": "python",
   "name": "python3"
  },
  "language_info": {
   "codemirror_mode": {
    "name": "ipython",
    "version": 3
   },
   "file_extension": ".py",
   "mimetype": "text/x-python",
   "name": "python",
   "nbconvert_exporter": "python",
   "pygments_lexer": "ipython3",
   "version": "3.8.10"
  }
 },
 "nbformat": 4,
 "nbformat_minor": 5
}
